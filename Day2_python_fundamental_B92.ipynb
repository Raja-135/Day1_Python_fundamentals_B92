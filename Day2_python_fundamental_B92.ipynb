{
 "cells": [
  {
   "cell_type": "code",
   "execution_count": null,
   "id": "79c00453-d128-4b84-bedf-c2585af6a29e",
   "metadata": {},
   "outputs": [],
   "source": [
    "understanding to python fundamentals"
   ]
  },
  {
   "cell_type": "code",
   "execution_count": 1,
   "id": "b5c2d693-f6f2-4df8-8482-2c9848d4eb01",
   "metadata": {},
   "outputs": [],
   "source": [
    "x = 2\n",
    "y = 3"
   ]
  },
  {
   "cell_type": "code",
   "execution_count": 2,
   "id": "9dda34e8-0277-4f28-9589-d96e4241bc12",
   "metadata": {},
   "outputs": [
    {
     "name": "stdout",
     "output_type": "stream",
     "text": [
      "5\n"
     ]
    }
   ],
   "source": [
    "z =x+y\n",
    "print(z)"
   ]
  },
  {
   "cell_type": "code",
   "execution_count": 3,
   "id": "c62699e5-10f5-4aba-9e27-10b5ae4c78ee",
   "metadata": {},
   "outputs": [
    {
     "ename": "SyntaxError",
     "evalue": "invalid syntax (3945532892.py, line 1)",
     "output_type": "error",
     "traceback": [
      "\u001b[1;36m  Cell \u001b[1;32mIn[3], line 1\u001b[1;36m\u001b[0m\n\u001b[1;33m    Rules for declearing the variables\u001b[0m\n\u001b[1;37m          ^\u001b[0m\n\u001b[1;31mSyntaxError\u001b[0m\u001b[1;31m:\u001b[0m invalid syntax\n"
     ]
    }
   ],
   "source": [
    "Rules for declearing the variables"
   ]
  },
  {
   "cell_type": "code",
   "execution_count": 4,
   "id": "9e2cb7ff-f34c-499c-9d72-33a50b8a810e",
   "metadata": {},
   "outputs": [
    {
     "name": "stdout",
     "output_type": "stream",
     "text": [
      "raja\n"
     ]
    }
   ],
   "source": [
    "firstname ='raja'\n",
    "print(firstname)"
   ]
  },
  {
   "cell_type": "code",
   "execution_count": 6,
   "id": "3b99d336-36c3-4481-b8cc-9bc3196c3e72",
   "metadata": {},
   "outputs": [
    {
     "name": "stdout",
     "output_type": "stream",
     "text": [
      "AJAY KUMAR\n"
     ]
    }
   ],
   "source": [
    "first_name = 'AJAY KUMAR'\n",
    "print(first_name)"
   ]
  },
  {
   "cell_type": "code",
   "execution_count": 9,
   "id": "d949130b-29d1-492b-a68b-d11e2a799bcd",
   "metadata": {},
   "outputs": [
    {
     "ename": "SyntaxError",
     "evalue": "invalid syntax (1250716910.py, line 1)",
     "output_type": "error",
     "traceback": [
      "\u001b[1;36m  Cell \u001b[1;32mIn[9], line 1\u001b[1;36m\u001b[0m\n\u001b[1;33m    A variable name should not start with a number:\u001b[0m\n\u001b[1;37m      ^\u001b[0m\n\u001b[1;31mSyntaxError\u001b[0m\u001b[1;31m:\u001b[0m invalid syntax\n"
     ]
    }
   ],
   "source": [
    "A variable name should not start with a number:"
   ]
  },
  {
   "cell_type": "code",
   "execution_count": 8,
   "id": "3e846901-b783-4092-aa72-2392438a6955",
   "metadata": {},
   "outputs": [
    {
     "name": "stdout",
     "output_type": "stream",
     "text": [
      "pavan\n"
     ]
    }
   ],
   "source": [
    "name1 = 'pavan'\n",
    "print(name1)"
   ]
  },
  {
   "cell_type": "code",
   "execution_count": 10,
   "id": "f1ab97eb-84f7-4cee-b8bf-6f540e19df4f",
   "metadata": {},
   "outputs": [
    {
     "ename": "SyntaxError",
     "evalue": "invalid syntax (3754491952.py, line 1)",
     "output_type": "error",
     "traceback": [
      "\u001b[1;36m  Cell \u001b[1;32mIn[10], line 1\u001b[1;36m\u001b[0m\n\u001b[1;33m    Rule No 3:A variable should not contain any special characters\u001b[0m\n\u001b[1;37m         ^\u001b[0m\n\u001b[1;31mSyntaxError\u001b[0m\u001b[1;31m:\u001b[0m invalid syntax\n"
     ]
    }
   ],
   "source": [
    "Rule No 3:A variable should not contain any special characters"
   ]
  },
  {
   "cell_type": "code",
   "execution_count": 11,
   "id": "57c024b3-2d0e-4f75-82a4-9a1172d733b7",
   "metadata": {},
   "outputs": [
    {
     "ename": "SyntaxError",
     "evalue": "invalid syntax (3543476670.py, line 1)",
     "output_type": "error",
     "traceback": [
      "\u001b[1;36m  Cell \u001b[1;32mIn[11], line 1\u001b[1;36m\u001b[0m\n\u001b[1;33m    name@ = 'kumar'\u001b[0m\n\u001b[1;37m          ^\u001b[0m\n\u001b[1;31mSyntaxError\u001b[0m\u001b[1;31m:\u001b[0m invalid syntax\n"
     ]
    }
   ],
   "source": [
    "name@ = 'kumar'\n",
    "print(name@)"
   ]
  },
  {
   "cell_type": "code",
   "execution_count": 12,
   "id": "82372b16-76ab-47ad-8660-a58b59ca65e6",
   "metadata": {},
   "outputs": [
    {
     "ename": "SyntaxError",
     "evalue": "invalid syntax (772056302.py, line 1)",
     "output_type": "error",
     "traceback": [
      "\u001b[1;36m  Cell \u001b[1;32mIn[12], line 1\u001b[1;36m\u001b[0m\n\u001b[1;33m    Introduction to datatypes :\u001b[0m\n\u001b[1;37m                 ^\u001b[0m\n\u001b[1;31mSyntaxError\u001b[0m\u001b[1;31m:\u001b[0m invalid syntax\n"
     ]
    }
   ],
   "source": [
    "Introduction to datatypes :\n",
    "1. strings ==========> str\n",
    "2. numbers===========> integers-------->int and float------> 0.1,0.2-----> float\n",
    "list====> list\n",
    "tuples====> tuple\n",
    "dictonary======> dict"
   ]
  },
  {
   "cell_type": "code",
   "execution_count": 13,
   "id": "9ad48ab6-13d8-479c-9fe4-e7208a9ac83b",
   "metadata": {},
   "outputs": [
    {
     "ename": "SyntaxError",
     "evalue": "invalid decimal literal (3303670223.py, line 3)",
     "output_type": "error",
     "traceback": [
      "\u001b[1;36m  Cell \u001b[1;32mIn[13], line 3\u001b[1;36m\u001b[0m\n\u001b[1;33m    1.mutable datatypes=====> these are flexable in nature=====> which we can edit and alter\u001b[0m\n\u001b[1;37m     ^\u001b[0m\n\u001b[1;31mSyntaxError\u001b[0m\u001b[1;31m:\u001b[0m invalid decimal literal\n"
     ]
    }
   ],
   "source": [
    "classification of datatypes :\n",
    "Broadly datatypes are classified into two catagerios:\n",
    "1.mutable datatypes=====> these are flexable in nature=====> which we can edit and alter\n",
    "2.immutable datatype====> these are fixed in nature====> which we cannot be able to edit and alter"
   ]
  },
  {
   "cell_type": "code",
   "execution_count": null,
   "id": "8328cb10-4e2b-4b7e-985d-54c9cfe450b2",
   "metadata": {},
   "outputs": [],
   "source": [
    "Introduction to string datatypes\n",
    "defination : A string is a series of characters declared in quotes.\n",
    "classification : It is as an immutable datatype\n",
    "how to declare the string.......?\n",
    "2 approach:\n",
    "1. single qutoe\n",
    "2. double quote"
   ]
  },
  {
   "cell_type": "code",
   "execution_count": 14,
   "id": "9d4b1c9a-8a94-4204-95ff-428387eded43",
   "metadata": {},
   "outputs": [
    {
     "name": "stdout",
     "output_type": "stream",
     "text": [
      "sekhar\n"
     ]
    }
   ],
   "source": [
    "firstname = 'sekhar'\n",
    "print(firstname)"
   ]
  },
  {
   "cell_type": "code",
   "execution_count": 15,
   "id": "df800e86-3f91-4855-870d-6840f1f10814",
   "metadata": {},
   "outputs": [
    {
     "name": "stdout",
     "output_type": "stream",
     "text": [
      "zameer\n"
     ]
    }
   ],
   "source": [
    "name = \"zameer\"\n",
    "print(name)"
   ]
  },
  {
   "cell_type": "code",
   "execution_count": null,
   "id": "88ca9a7c-9d65-49a5-8b02-c7cf91c96a02",
   "metadata": {},
   "outputs": [],
   "source": [
    "Introduction to string methods :"
   ]
  },
  {
   "cell_type": "code",
   "execution_count": 16,
   "id": "c80fbd15-fe0d-4669-8017-a5a308dd552c",
   "metadata": {},
   "outputs": [
    {
     "data": {
      "text/plain": [
       "str"
      ]
     },
     "execution_count": 16,
     "metadata": {},
     "output_type": "execute_result"
    }
   ],
   "source": [
    "type(firstname)"
   ]
  },
  {
   "cell_type": "code",
   "execution_count": 17,
   "id": "7379e8f9-fa3d-4dfb-ad45-e4aab4694277",
   "metadata": {},
   "outputs": [
    {
     "data": {
      "text/plain": [
       "str"
      ]
     },
     "execution_count": 17,
     "metadata": {},
     "output_type": "execute_result"
    }
   ],
   "source": [
    "type(name)"
   ]
  },
  {
   "cell_type": "code",
   "execution_count": 18,
   "id": "68ee4641-758e-4fa1-8551-b28e6bf8f46e",
   "metadata": {},
   "outputs": [
    {
     "ename": "SyntaxError",
     "evalue": "invalid syntax (2103019390.py, line 1)",
     "output_type": "error",
     "traceback": [
      "\u001b[1;36m  Cell \u001b[1;32mIn[18], line 1\u001b[1;36m\u001b[0m\n\u001b[1;33m    Python is a case senstive langauge\u001b[0m\n\u001b[1;37m                ^\u001b[0m\n\u001b[1;31mSyntaxError\u001b[0m\u001b[1;31m:\u001b[0m invalid syntax\n"
     ]
    }
   ],
   "source": [
    "Python is a case senstive langauge\n",
    "#is used for comment the code"
   ]
  },
  {
   "cell_type": "code",
   "execution_count": 19,
   "id": "14e7c61c-2947-4d55-a7ff-b58e7be95ded",
   "metadata": {},
   "outputs": [
    {
     "name": "stdout",
     "output_type": "stream",
     "text": [
      "durga\n"
     ]
    }
   ],
   "source": [
    "fullname = 'durga'\n",
    "print(fullname)"
   ]
  },
  {
   "cell_type": "code",
   "execution_count": 20,
   "id": "b9bcdc31-20f4-4fb7-a555-d2b1018a192b",
   "metadata": {},
   "outputs": [
    {
     "name": "stdout",
     "output_type": "stream",
     "text": [
      "Durga\n"
     ]
    }
   ],
   "source": [
    "print(fullname.title())"
   ]
  },
  {
   "cell_type": "code",
   "execution_count": null,
   "id": "fae026cc-9a53-459e-97f2-187b932eb587",
   "metadata": {},
   "outputs": [],
   "source": [
    "I want entire name in capital letters"
   ]
  },
  {
   "cell_type": "code",
   "execution_count": 21,
   "id": "0a515293-cb24-458c-abaf-616410ea7f3c",
   "metadata": {},
   "outputs": [
    {
     "name": "stdout",
     "output_type": "stream",
     "text": [
      "DURGA\n"
     ]
    }
   ],
   "source": [
    "print(fullname.upper())"
   ]
  },
  {
   "cell_type": "code",
   "execution_count": 22,
   "id": "ab7e1c4a-838b-4b06-9990-beb6f074d2cf",
   "metadata": {},
   "outputs": [
    {
     "name": "stdout",
     "output_type": "stream",
     "text": [
      "durga\n"
     ]
    }
   ],
   "source": [
    "print(fullname.lower())"
   ]
  },
  {
   "cell_type": "code",
   "execution_count": null,
   "id": "06e510b9-b2a9-4065-82f9-c1eeeef1f112",
   "metadata": {},
   "outputs": [],
   "source": []
  }
 ],
 "metadata": {
  "kernelspec": {
   "display_name": "Python 3 (ipykernel)",
   "language": "python",
   "name": "python3"
  },
  "language_info": {
   "codemirror_mode": {
    "name": "ipython",
    "version": 3
   },
   "file_extension": ".py",
   "mimetype": "text/x-python",
   "name": "python",
   "nbconvert_exporter": "python",
   "pygments_lexer": "ipython3",
   "version": "3.12.7"
  }
 },
 "nbformat": 4,
 "nbformat_minor": 5
}
